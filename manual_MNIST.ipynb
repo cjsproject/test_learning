{
 "cells": [
  {
   "cell_type": "code",
   "execution_count": 109,
   "metadata": {},
   "outputs": [
    {
     "name": "stdout",
     "output_type": "stream",
     "text": [
      "[[ 0.  0.  5. 13.  9.  1.  0.  0.]\n",
      " [ 0.  0. 13. 15. 10. 15.  5.  0.]\n",
      " [ 0.  3. 15.  2.  0. 11.  8.  0.]\n",
      " [ 0.  4. 12.  0.  0.  8.  8.  0.]\n",
      " [ 0.  5.  8.  0.  0.  9.  8.  0.]\n",
      " [ 0.  4. 11.  0.  1. 12.  7.  0.]\n",
      " [ 0.  2. 14.  5. 10. 12.  0.  0.]\n",
      " [ 0.  0.  6. 13. 10.  0.  0.  0.]]\n",
      "(1797, 8, 8)\n"
     ]
    }
   ],
   "source": [
    "# a supervised network to train MNIST written with mostly numpy\n",
    "import numpy as np\n",
    "from matplotlib.image import imread\n",
    "import matplotlib.pyplot as plt\n",
    "\n",
    "from sklearn.datasets import load_digits\n",
    "digits = load_digits()\n",
    "In [68]: np.warnings.filterwarnings('ignore', category=np.VisibleDeprecationWarning)                 \n",
    "\n",
    "\n",
    "# load the list of lists into a list :)\n",
    "img_data = digits['images']\n",
    "print(img_data[0], img_data.shape, sep='\\n')"
   ]
  },
  {
   "cell_type": "code",
   "execution_count": 110,
   "metadata": {},
   "outputs": [],
   "source": [
    "def sigmoid(z):\n",
    "    sig = 1/(1 + np.exp(-z))\n",
    "    return sig\n",
    "    # z = wl*al[0] + b\n",
    "    "
   ]
  },
  {
   "cell_type": "code",
   "execution_count": 111,
   "metadata": {},
   "outputs": [
    {
     "name": "stdout",
     "output_type": "stream",
     "text": [
      "7\n"
     ]
    },
    {
     "data": {
      "image/png": "[encoded data removed]",
      "text/plain": [
       "<Figure size 432x288 with 1 Axes>"
      ]
     },
     "metadata": {
      "needs_background": "light"
     },
     "output_type": "display_data"
    }
   ],
   "source": [
    "W = img_data[0].shape[0] # input shape, square\n",
    "K = 2 # kernel/filter size\n",
    "P = 0 # padding\n",
    "S = 1 # stride\n",
    "hidden_layer_shape = int(((W - K + 2*P)/S )+1)\n",
    "\n",
    "print(hidden_layer_shape)\n",
    "display = plt.imshow(img_data[0])\n",
    "display.set_cmap('gray')"
   ]
  },
  {
   "cell_type": "code",
   "execution_count": 181,
   "metadata": {},
   "outputs": [
    {
     "data": {
      "text/plain": [
       "'\\nM = img_data[0]\\n# reshaping matrix into vector form for input layer\\nin_layer = np.asarray(M).reshape(-1)\\n\\n# in_layer is the vectorized image, whose values are used as the activation of first layer\\nlayer1_weights = np.random.rand(hidden_layer_shape)\\nconv = np.zeros([hidden_layer_shape, hidden_layer_shape])\\n\\nM = M/np.max(M)\\n\\nbias = -1/3\\n\\ntest = np.sum(M[0:2, 1:3])\\nprint(test)\\n\\n\\nfor i in range(0, hidden_layer_shape, S):\\n    for j in range(0, hidden_layer_shape, S):\\n        conv[i][j] = np.sum(M[i:i+K, j:j+K]) + bias\\n\\nhoriz_conv = np.array([np.sum(conv[i])/len(conv[i]) for i in range(len(conv))])\\nvert_conv = np.array([np.sum(i)/len(i) for i in M.transpose()])\\nout_layer_horiz = sigmoid(horiz_conv - 1)\\nout_layer_vert = sigmoid(vert_conv - 1)\\nout_layer = np.concatenate([out_layer_horiz, out_layer_vert])\\n\\nprint(out_layer)'"
      ]
     },
     "execution_count": 181,
     "metadata": {},
     "output_type": "execute_result"
    }
   ],
   "source": [
    "\"\"\" This is for convolutions... \n",
    "M = img_data[0]\n",
    "# reshaping matrix into vector form for input layer\n",
    "in_layer = np.asarray(M).reshape(-1)\n",
    "\n",
    "# in_layer is the vectorized image, whose values are used as the activation of first layer\n",
    "layer1_weights = np.random.rand(hidden_layer_shape)\n",
    "conv = np.zeros([hidden_layer_shape, hidden_layer_shape])\n",
    "\n",
    "M = M/np.max(M)\n",
    "\n",
    "bias = -1/3\n",
    "\n",
    "test = np.sum(M[0:2, 1:3])\n",
    "print(test)\n",
    "\n",
    "\n",
    "for i in range(0, hidden_layer_shape, S):\n",
    "    for j in range(0, hidden_layer_shape, S):\n",
    "        conv[i][j] = np.sum(M[i:i+K, j:j+K]) + bias\n",
    "\n",
    "horiz_conv = np.array([np.sum(conv[i])/len(conv[i]) for i in range(len(conv))])\n",
    "vert_conv = np.array([np.sum(i)/len(i) for i in M.transpose()])\n",
    "out_layer_horiz = sigmoid(horiz_conv - 1)\n",
    "out_layer_vert = sigmoid(vert_conv - 1)\n",
    "out_layer = np.concatenate([out_layer_horiz, out_layer_vert])\n",
    "\n",
    "print(out_layer)\"\"\""
   ]
  },
  {
   "cell_type": "code",
   "execution_count": 182,
   "metadata": {},
   "outputs": [
    {
     "name": "stdout",
     "output_type": "stream",
     "text": [
      "layer shape in order:\n",
      "(64,)\n",
      "(7,)\n",
      "(7,)\n",
      "(10,)\n",
      "output\n",
      " [0.96420859 0.99269803 0.98498192 0.93095272 0.99327202 0.95424716\n",
      " 0.99254699 0.99632671 0.99619529 0.97211265]\n"
     ]
    }
   ],
   "source": [
    "M = img_data[0]\n",
    "# reshaping matrix into vector form for input layer\n",
    "in_layer = np.asarray(M).reshape(-1)\n",
    "\n",
    "# although previous cell has a some meaningful activation for the first hidden layer, it's laborious to compute\n",
    "# instead, let's have some fun with the weights and biases.\n",
    "# 7x64 weight matrix and 64x1 bias vector so that we can get some random, useless, but easily obtainable hidden layer.\n",
    "# first hidden layer weights and biases\n",
    "weightrix = np.random.rand(hidden_layer_shape, in_layer.shape[0])\n",
    "bias_1 = np.random.rand(hidden_layer_shape)\n",
    "\n",
    "#second hidden layer activation \n",
    "z_1 = np.matmul(weightrix, in_layer) + bias_1\n",
    "hidden_layer_1 = sigmoid(z_1)\n",
    "\n",
    "# 7x7 weight matrix and 7x1 bias vector so that we can get some random, useless, but easily obtainable hidden layer.\n",
    "# second hidden layer weights and biases\n",
    "weightrix_2 = np.random.rand(hidden_layer_shape, hidden_layer_1.shape[0])\n",
    "bias_2 = np.random.rand(hidden_layer_1.shape[0])\n",
    "\n",
    "# second hidden layer\n",
    "z_2 = np.matmul(weightrix_2, hidden_layer_1) + bias_2\n",
    "hidden_layer_2 = sigmoid(z_2)\n",
    "\n",
    "# 10x7 weight matrix and 10x1 bias vector so that we can get some random, useless, but easily obtainable final layer.\n",
    "# output layer's weights and biases\n",
    "weightrix_3 = np.random.rand(10, hidden_layer_1.shape[0]) # 10 is the # of possible 'guesses'\n",
    "bias_3 = np.random.rand(10)\n",
    "\n",
    "# final output layer \n",
    "# transforming the 7x1 hidden layer with matrix multiplication to the 10x1 outlayer (10x7)(7x1) + (10x1) = out_layer\n",
    "z_3 = np.matmul(weightrix_3, hidden_layer_2) + bias_3\n",
    "out_layer = sigmoid(z_3)\n",
    "\n",
    "print(\"layer shape in order:\", in_layer.shape, hidden_layer_1.shape, hidden_layer_2.shape, out_layer.shape, sep='\\n')\n",
    "\n",
    "print(\"output\\n\", out_layer)"
   ]
  },
  {
   "cell_type": "code",
   "execution_count": 190,
   "metadata": {},
   "outputs": [
    {
     "name": "stdout",
     "output_type": "stream",
     "text": [
      "(10,)\n"
     ]
    },
    {
     "data": {
      "text/plain": [
       "[<matplotlib.lines.Line2D at 0x208ff8a53a0>]"
      ]
     },
     "execution_count": 190,
     "metadata": {},
     "output_type": "execute_result"
    },
    {
     "data": {
      "image/png": "[encoded data removed]",
      "text/plain": [
       "<Figure size 432x288 with 1 Axes>"
      ]
     },
     "metadata": {
      "needs_background": "light"
     },
     "output_type": "display_data"
    }
   ],
   "source": [
    "# back-propogation from output to input layer weights\n",
    "\n",
    "#desired vector for identifying M, which is a 0\n",
    "y = np.zeros(out_layer.shape[0])\n",
    "y[0] = 1.0 # desired certainty is 1.0 for zero and 0.0 for all other nums\n",
    "\n",
    "# matrix, each row is a layer\n",
    "layers = np.array([out_layer, hidden_layer_2, hidden_layer_1, in_layer])\n",
    "biases = np.array([bias_3, bias_2, bias_1])\n",
    "weights = np.array([weightrix_3, weightrix_2, weightrix])\n",
    "\n",
    "cost = np.square(out_layer - y)\n",
    "\n",
    "print(cost.shape)\n",
    "\n",
    "# first gradient\n",
    "# change in cost with respect to the a change in current weight\n",
    "dcost_dw = 2*(out_layer - y) * (-z_3*np.exp(-z_3)*np.power(1-np.exp(-z_3), -2)) * np.sum(hidden_layer_2) #dc_dav*dav_dz*dz_dw\n",
    "\n",
    "# change in cost with respect to a change in the previous activation\n",
    "dcost_davm1 = weightrix_3[:].sum()/len(weightrix[:]) * (-z_3*np.exp(-z_3)*np.power(1-np.exp(-z_3), -2)) * np.sum(hidden_layer_2) #dz_davm1*dav_dz*dz_dw\n",
    "\n",
    "# change in cost with respect to a change in current bias\n",
    "dcost_db = (-z_3*np.exp(-z_3)*np.power(1-np.exp(-z_3), -2)) * np.sum(hidden_layer_2) # dav_dz*dz_dw\n",
    "\n",
    "# change in cost with respect to z\n",
    "dcost_dz = -2*z_3*np.exp(-z_3)*( 1 + np.exp(-z_3) + y[i]*np.power(1 + np.exp(-z_3) , -2) ) # some extraneous calculus that maybe works\n",
    "\n",
    "\n",
    "gradient_1 = np.squeeze(np.array([np.sum(dcost_dw), np.sum(dcost_davm1), np.sum(dcost_db), np.sum(dcost_dz)]))\n",
    "\n",
    "#plt.plot(np.linspace(0, 10, 10), cost)\n",
    "\n",
    "plt.plot(np.linspace(0,4,4), gradient_1)\n"
   ]
  },
  {
   "cell_type": "code",
   "execution_count": null,
   "metadata": {},
   "outputs": [],
   "source": []
  }
 ],
 "metadata": {
  "kernelspec": {
   "display_name": "Python 3",
   "language": "python",
   "name": "python3"
  },
  "language_info": {
   "codemirror_mode": {
    "name": "ipython",
    "version": 3
   },
   "file_extension": ".py",
   "mimetype": "text/x-python",
   "name": "python",
   "nbconvert_exporter": "python",
   "pygments_lexer": "ipython3",
   "version": "3.8.5"
  }
 },
 "nbformat": 4,
 "nbformat_minor": 5
}
